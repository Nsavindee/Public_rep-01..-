{
 "cells": [
  {
   "cell_type": "markdown",
   "id": "3cf9d734-9ba6-41ca-bd4d-6721fa6d5fe3",
   "metadata": {},
   "source": [
    "# Data Science Tools and Ecosystem"
   ]
  },
  {
   "cell_type": "markdown",
   "id": "574df48a-49a6-4feb-b571-08c7310b5d99",
   "metadata": {},
   "source": [
    "In this notebook, Data Science Tools and Ecosystem are summarized."
   ]
  },
  {
   "cell_type": "markdown",
   "id": "0183b088-2866-49fa-a6ef-d0213fef066a",
   "metadata": {},
   "source": [
    "Some of the popular languages that Data Scientists use are:\n",
    "1. Python\n",
    "2. R\n",
    "3. Java\n"
   ]
  },
  {
   "cell_type": "markdown",
   "id": "8a42e005-5526-46e4-ab6c-a764b36b4ce7",
   "metadata": {},
   "source": [
    "Some of the commonly used libraries used by Data Scientists include:\n",
    "1. Pandas\n",
    "2. Numpy\n",
    "3. Scikit-Learn\n",
    "4. Tensorflow\n",
    "5. Seaborn"
   ]
  },
  {
   "cell_type": "markdown",
   "id": "49be088d-6548-4e77-b901-84e06155ae6a",
   "metadata": {},
   "source": [
    "|Data Science Tools|\n",
    "|------------------|\n",
    "|Jupyter Notebooks |\n",
    "|Github|\n",
    "|R Studio|"
   ]
  },
  {
   "cell_type": "markdown",
   "id": "5def7b83-c2b7-4c2a-8ebc-0e38aa13837e",
   "metadata": {},
   "source": [
    "### Below are a few examples of evaluating arithmetic expressions in Python"
   ]
  },
  {
   "cell_type": "code",
   "execution_count": 1,
   "id": "7c58e024-9b6a-4f29-bd68-6a2d7fe70aa2",
   "metadata": {
    "tags": []
   },
   "outputs": [
    {
     "data": {
      "text/plain": [
       "17"
      ]
     },
     "execution_count": 1,
     "metadata": {},
     "output_type": "execute_result"
    }
   ],
   "source": [
    "# This a simple arithmetic expression to mutiply then add integers\n",
    "(3*4)+5"
   ]
  },
  {
   "cell_type": "code",
   "execution_count": 2,
   "id": "36892343-dd88-410d-942f-35ec047e9719",
   "metadata": {
    "tags": []
   },
   "outputs": [
    {
     "data": {
      "text/plain": [
       "3.3333333333333335"
      ]
     },
     "execution_count": 2,
     "metadata": {},
     "output_type": "execute_result"
    }
   ],
   "source": [
    "# This will convert 200 minutes to hours by diving by 60\n",
    "200/60"
   ]
  },
  {
   "cell_type": "markdown",
   "id": "6c2103d6-1677-47c3-8dd6-6dca24a6f676",
   "metadata": {},
   "source": [
    "**Objectives:**\n",
    "* List popular languages used for data science\n",
    "* List popular libraries used for data science\n",
    "* List data science tools\n"
   ]
  },
  {
   "cell_type": "markdown",
   "id": "6a7957b3-c90d-4d19-84e4-c3a111f85d65",
   "metadata": {},
   "source": [
    "## Author\n",
    "Nithmi"
   ]
  },
  {
   "cell_type": "code",
   "execution_count": null,
   "id": "a181275f-8416-4594-a5a0-42aade4595f2",
   "metadata": {},
   "outputs": [],
   "source": []
  }
 ],
 "metadata": {
  "kernelspec": {
   "display_name": "Python",
   "language": "python",
   "name": "conda-env-python-py"
  },
  "language_info": {
   "codemirror_mode": {
    "name": "ipython",
    "version": 3
   },
   "file_extension": ".py",
   "mimetype": "text/x-python",
   "name": "python",
   "nbconvert_exporter": "python",
   "pygments_lexer": "ipython3",
   "version": "3.7.12"
  }
 },
 "nbformat": 4,
 "nbformat_minor": 5
}
